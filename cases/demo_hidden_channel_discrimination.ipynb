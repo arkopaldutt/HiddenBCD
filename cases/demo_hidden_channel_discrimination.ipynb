{
 "cells": [
  {
   "cell_type": "code",
   "execution_count": 1,
   "metadata": {},
   "outputs": [],
   "source": [
    "# Imports\n",
    "import os, sys, types\n",
    "import pathlib\n",
    "from importlib import reload\n",
    "import pickle \n",
    "\n",
    "import numpy as np\n",
    "import math\n",
    "import scipy\n",
    "import scipy.linalg\n",
    "from sympy.physics.quantum import TensorProduct, tensor_product_simp\n",
    "from sympy.physics.quantum.dagger import Dagger"
   ]
  },
  {
   "cell_type": "code",
   "execution_count": 2,
   "metadata": {},
   "outputs": [],
   "source": [
    "import scipy.optimize"
   ]
  },
  {
   "cell_type": "code",
   "execution_count": 3,
   "metadata": {},
   "outputs": [],
   "source": [
    "from functools import partial"
   ]
  },
  {
   "cell_type": "code",
   "execution_count": 4,
   "metadata": {},
   "outputs": [],
   "source": [
    "import matplotlib.pyplot as plt\n",
    "import seaborn as sns"
   ]
  },
  {
   "cell_type": "code",
   "execution_count": 6,
   "metadata": {},
   "outputs": [],
   "source": [
    "%matplotlib inline\n",
    "%config InlineBackend.figure_format='retina'"
   ]
  },
  {
   "cell_type": "code",
   "execution_count": 7,
   "metadata": {},
   "outputs": [],
   "source": [
    "# Local package imports\n",
    "# Update this with setup & develop later\n",
    "PROJECT_PATH = str(pathlib.Path().resolve().parent)\n",
    "sys.path.append(PROJECT_PATH)"
   ]
  },
  {
   "cell_type": "code",
   "execution_count": 8,
   "metadata": {},
   "outputs": [],
   "source": [
    "# Cool reloading\n",
    "# Reference: https://stackoverflow.com/questions/28101895/reloading-packages-and-their-submodules-recursively-in-python\n",
    "\n",
    "def reload_package(package):\n",
    "    assert(hasattr(package, \"__package__\"))\n",
    "    fn = package.__file__\n",
    "    fn_dir = os.path.dirname(fn) + os.sep\n",
    "    module_visit = {fn}\n",
    "    del fn\n",
    "\n",
    "    def reload_recursive_ex(module):\n",
    "        reload(module)\n",
    "\n",
    "        for module_child in vars(module).values():\n",
    "            if isinstance(module_child, types.ModuleType):\n",
    "                fn_child = getattr(module_child, \"__file__\", None)\n",
    "                if (fn_child is not None) and fn_child.startswith(fn_dir):\n",
    "                    if fn_child not in module_visit:\n",
    "                        # print(\"reloading:\", fn_child, \"from\", module)\n",
    "                        module_visit.add(fn_child)\n",
    "                        reload_recursive_ex(module_child)\n",
    "\n",
    "    return reload_recursive_ex(package)"
   ]
  },
  {
   "cell_type": "code",
   "execution_count": 11,
   "metadata": {},
   "outputs": [],
   "source": [
    "import hiddenbcd\n",
    "from hiddenbcd.queries import repeated_search_numerical_length"
   ]
  },
  {
   "cell_type": "markdown",
   "metadata": {},
   "source": [
    "# Queries"
   ]
  },
  {
   "cell_type": "markdown",
   "metadata": {},
   "source": [
    "In this section, we show how queries can be specified through phase sequences and their evaluation."
   ]
  },
  {
   "cell_type": "code",
   "execution_count": 12,
   "metadata": {},
   "outputs": [],
   "source": [
    "# Pauli operators\n",
    "si = np.array([ [1, 0], [0, 1] ])\n",
    "sx = np.array([ [0, 1], [1, 0] ])\n",
    "sy = np.array([ [0, -1j], [1j, 0] ])\n",
    "sz = np.array([ [1, 0], [0, -1] ])\n",
    "had = (1/np.sqrt(2))*np.array([ [1, 1], [1, -1] ])\n",
    "\n",
    "# Kron\n",
    "def kron(a, b):\n",
    "    return np.matrix(scipy.linalg.kron(a, b))"
   ]
  },
  {
   "cell_type": "code",
   "execution_count": 13,
   "metadata": {},
   "outputs": [],
   "source": [
    "# Helper functions\n",
    "def Rx(phi):\n",
    "    return np.cos(phi)*si + 1j*np.sin(phi)*sx\n",
    "\n",
    "def Ry(phi):\n",
    "    return np.cos(phi)*si + 1j*np.sin(phi)*sy\n",
    "\n",
    "def Rz(phi):\n",
    "    return np.cos(phi)*si + 1j*np.sin(phi)*sz\n",
    "\n",
    "def print_clean(x):\n",
    "    with np.printoptions(suppress=True):\n",
    "        print(x)"
   ]
  },
  {
   "cell_type": "markdown",
   "metadata": {},
   "source": [
    "### Length-4 example"
   ]
  },
  {
   "cell_type": "markdown",
   "metadata": {},
   "source": [
    "U_simple"
   ]
  },
  {
   "cell_type": "code",
   "execution_count": 14,
   "metadata": {},
   "outputs": [],
   "source": [
    "# Proposed solution\n",
    "psi_W = np.pi/4\n",
    "phi = np.zeros(5)"
   ]
  },
  {
   "cell_type": "code",
   "execution_count": 16,
   "metadata": {},
   "outputs": [],
   "source": [
    "theta_V = 0\n",
    "U_simple, rho = hiddenbcd.queries.phase_sequence(theta_V, phi, psi_W, 4, FLAG_verbose=False)"
   ]
  },
  {
   "cell_type": "code",
   "execution_count": 17,
   "metadata": {},
   "outputs": [
    {
     "name": "stdout",
     "output_type": "stream",
     "text": [
      "[[ 1.+0.j  0.+0.j  0.+0.j  0.+0.j]\n",
      " [ 0.+0.j  1.+0.j  0.+0.j  0.+0.j]\n",
      " [ 0.+0.j  0.+0.j -1.+0.j  0.+0.j]\n",
      " [ 0.+0.j  0.+0.j  0.+0.j -1.-0.j]]\n"
     ]
    }
   ],
   "source": [
    "print_clean(U_simple)"
   ]
  },
  {
   "cell_type": "code",
   "execution_count": 18,
   "metadata": {},
   "outputs": [
    {
     "name": "stdout",
     "output_type": "stream",
     "text": [
      "[[0.5+0.j 0. +0.j 0. +0.j 0. +0.j]\n",
      " [0. +0.j 0. +0.j 0. +0.j 0. +0.j]\n",
      " [0. +0.j 0. +0.j 0.5+0.j 0. +0.j]\n",
      " [0. +0.j 0. +0.j 0. +0.j 0. +0.j]]\n"
     ]
    }
   ],
   "source": [
    "print_clean(rho)"
   ]
  },
  {
   "cell_type": "code",
   "execution_count": 19,
   "metadata": {},
   "outputs": [],
   "source": [
    "theta_V = np.arccos(np.sqrt(2 - np.sqrt(2)))\n",
    "U_simple, rho = hiddenbcd.queries.phase_sequence(theta_V, phi, psi_W, 4, FLAG_verbose=False)"
   ]
  },
  {
   "cell_type": "code",
   "execution_count": 20,
   "metadata": {},
   "outputs": [
    {
     "name": "stdout",
     "output_type": "stream",
     "text": [
      "[[-0.-1.j  0.+0.j  0.-0.j  0.+0.j]\n",
      " [ 0.+0.j -0.+1.j  0.+0.j -0.-0.j]\n",
      " [ 0.+0.j  0.+0.j  0.-1.j  0.+0.j]\n",
      " [ 0.+0.j -0.+0.j  0.+0.j  0.+1.j]]\n"
     ]
    }
   ],
   "source": [
    "print_clean(U_simple)"
   ]
  },
  {
   "cell_type": "code",
   "execution_count": 21,
   "metadata": {},
   "outputs": [
    {
     "name": "stdout",
     "output_type": "stream",
     "text": [
      "[[ 0.5+0.j  0. +0.j  0. +0.j  0. +0.j]\n",
      " [ 0. +0.j  0. +0.j  0. +0.j  0. +0.j]\n",
      " [-0. -0.j  0. +0.j  0.5-0.j  0. +0.j]\n",
      " [ 0. +0.j  0. +0.j  0. +0.j  0. +0.j]]\n"
     ]
    }
   ],
   "source": [
    "print_clean(rho)"
   ]
  },
  {
   "cell_type": "markdown",
   "metadata": {},
   "source": [
    "U_sqsp"
   ]
  },
  {
   "cell_type": "code",
   "execution_count": 22,
   "metadata": {},
   "outputs": [],
   "source": [
    "# Proposed solution\n",
    "psi_W = np.pi/4\n",
    "phi = np.array([np.pi/4,0,0,0,np.pi/4])"
   ]
  },
  {
   "cell_type": "code",
   "execution_count": 23,
   "metadata": {},
   "outputs": [],
   "source": [
    "theta_V = 0\n",
    "U_sqsp, rho = hiddenbcd.queries.phase_sequence(theta_V, phi, psi_W, 4)"
   ]
  },
  {
   "cell_type": "code",
   "execution_count": 24,
   "metadata": {},
   "outputs": [
    {
     "name": "stdout",
     "output_type": "stream",
     "text": [
      "[[ 0.+0.j  0.+1.j  0.+0.j  0.+0.j]\n",
      " [ 0.+1.j  0.+0.j  0.+0.j  0.+0.j]\n",
      " [ 0.+0.j  0.+0.j -0.+0.j  0.-1.j]\n",
      " [ 0.+0.j  0.+0.j  0.-1.j -0.-0.j]]\n"
     ]
    }
   ],
   "source": [
    "print_clean(U_sqsp)"
   ]
  },
  {
   "cell_type": "code",
   "execution_count": 25,
   "metadata": {},
   "outputs": [
    {
     "name": "stdout",
     "output_type": "stream",
     "text": [
      "[[ 0. +0.j  0. -0.j  0. +0.j  0. +0.j]\n",
      " [ 0. +0.j  0.5+0.j  0. +0.j  0. +0.j]\n",
      " [ 0. +0.j  0. +0.j  0. +0.j -0. -0.j]\n",
      " [ 0. +0.j  0. +0.j -0. +0.j  0.5+0.j]]\n"
     ]
    }
   ],
   "source": [
    "print_clean(rho)"
   ]
  },
  {
   "cell_type": "code",
   "execution_count": 26,
   "metadata": {},
   "outputs": [
    {
     "data": {
      "text/plain": [
       "array([3.47148897e-17, 1.00000000e+00])"
      ]
     },
     "execution_count": 26,
     "metadata": {},
     "output_type": "execute_result"
    }
   ],
   "source": [
    "hiddenbcd.queries.probability_target(rho)"
   ]
  },
  {
   "cell_type": "code",
   "execution_count": 27,
   "metadata": {},
   "outputs": [],
   "source": [
    "theta_V = np.arccos(np.sqrt(2 - np.sqrt(2)))\n",
    "U_sqsp, rho = hiddenbcd.queries.phase_sequence(theta_V, phi, psi_W, 4, FLAG_verbose=False)"
   ]
  },
  {
   "cell_type": "code",
   "execution_count": 28,
   "metadata": {},
   "outputs": [
    {
     "name": "stdout",
     "output_type": "stream",
     "text": [
      "[[ 0.-1.j -0.-0.j  0.+0.j  0.-0.j]\n",
      " [ 0.-0.j  0.+1.j  0.+0.j -0.+0.j]\n",
      " [ 0.+0.j -0.+0.j -0.-1.j  0.+0.j]\n",
      " [-0.+0.j -0.+0.j -0.+0.j -0.+1.j]]\n"
     ]
    }
   ],
   "source": [
    "print_clean(U_sqsp)"
   ]
  },
  {
   "cell_type": "code",
   "execution_count": 29,
   "metadata": {},
   "outputs": [
    {
     "name": "stdout",
     "output_type": "stream",
     "text": [
      "[[ 0.5-0.j  0. +0.j  0. -0.j  0. +0.j]\n",
      " [ 0. +0.j -0. -0.j -0. +0.j  0. +0.j]\n",
      " [ 0. +0.j -0. -0.j  0.5-0.j -0. +0.j]\n",
      " [ 0. -0.j -0. -0.j -0. -0.j -0. +0.j]]\n"
     ]
    }
   ],
   "source": [
    "print_clean(rho)"
   ]
  },
  {
   "cell_type": "code",
   "execution_count": 30,
   "metadata": {},
   "outputs": [
    {
     "data": {
      "text/plain": [
       "array([ 1.0000000e+00, -4.4408921e-16])"
      ]
     },
     "execution_count": 30,
     "metadata": {},
     "output_type": "execute_result"
    }
   ],
   "source": [
    "hiddenbcd.queries.probability_target(rho)"
   ]
  },
  {
   "cell_type": "markdown",
   "metadata": {},
   "source": [
    "# Numerical Optimization of Queries (Phase Sequences)"
   ]
  },
  {
   "cell_type": "markdown",
   "metadata": {},
   "source": [
    "Idea: Consider that we get state $|0\\rangle$ for $\\theta_V = \\theta_1$ and $|1\\rangle$ for $\\theta_V = 0$. Lets declare success for two instances: $p(0|\\theta_V=\\theta_1) - p(1|\\theta_V=0) > 1/3$ (actually enough for it to be $\\delta$, and then we can say that with enough repetitions, it succeeds with high probability) and $p(0|\\theta_V=\\theta_1) - p(0|\\theta_V=0) \\approx 1$.\n",
    "\n",
    "The optimization problem is then\n",
    "\\begin{equation}\n",
    "\\arg \\max_{\\phi} p(0|\\theta_V=\\theta_1;\\phi) - p(0|\\theta_V=0;\\phi)\n",
    "\\end{equation}"
   ]
  },
  {
   "cell_type": "markdown",
   "metadata": {},
   "source": [
    "## Simple example"
   ]
  },
  {
   "cell_type": "code",
   "execution_count": 37,
   "metadata": {},
   "outputs": [],
   "source": [
    "# Suppose we want to discriminate {alpha,0} using a phase sequence of length 4\n",
    "alpha = np.arccos(np.sqrt(2 - np.sqrt(2)))\n",
    "K = 4"
   ]
  },
  {
   "cell_type": "code",
   "execution_count": 38,
   "metadata": {},
   "outputs": [
    {
     "data": {
      "text/plain": [
       "0.5939621169191641"
      ]
     },
     "execution_count": 38,
     "metadata": {},
     "output_type": "execute_result"
    }
   ],
   "source": [
    "# Initialization\n",
    "phi_init = np.zeros(K+2)\n",
    "phi_init[0] = np.random.randn() # psi_W\n",
    "phi_init[1] = np.pi/4 # phi_0\n",
    "phi_init[K+1] = np.pi/4 # phi_K\n",
    "\n",
    "# Starting cost in this case\n",
    "hiddenbcd.queries.cost_function(phi_init, alpha, K)"
   ]
  },
  {
   "cell_type": "code",
   "execution_count": 39,
   "metadata": {},
   "outputs": [
    {
     "name": "stdout",
     "output_type": "stream",
     "text": [
      "[ 7.87337712e-01  7.85398159e-01  1.00475413e-09 -4.78547180e-09\n",
      "  4.23857677e-10  7.85398165e-01]\n"
     ]
    }
   ],
   "source": [
    "# Optimize phase sequence to maximize probability of success\n",
    "phi_sol = hiddenbcd.queries.quasi_newton_solve(phi_init, alpha, K)\n",
    "print(phi_sol)"
   ]
  },
  {
   "cell_type": "code",
   "execution_count": 40,
   "metadata": {},
   "outputs": [
    {
     "data": {
      "text/plain": [
       "2.1070003540428427e-09"
      ]
     },
     "execution_count": 40,
     "metadata": {},
     "output_type": "execute_result"
    }
   ],
   "source": [
    "hiddenbcd.queries.cost_function(phi_sol, alpha, K)"
   ]
  },
  {
   "cell_type": "code",
   "execution_count": 48,
   "metadata": {},
   "outputs": [
    {
     "name": "stdout",
     "output_type": "stream",
     "text": [
      "[0.78539816 0.78539816 0.         0.         0.         0.78539816]\n",
      "1.9721522630525295e-31\n"
     ]
    }
   ],
   "source": [
    "# How does it compare against a phase sequence known to succeed?\n",
    "K = 4\n",
    "psi_W = np.pi/4\n",
    "phi = np.array([np.pi/4,0,0,0,np.pi/4])\n",
    "\n",
    "angle_vec = np.insert(phi, 0, psi_W, axis=0)\n",
    "print(angle_vec)\n",
    "\n",
    "cost_opt = hiddenbcd.queries.cost_function(angle_vec, alpha, K)\n",
    "print(cost_opt)"
   ]
  },
  {
   "cell_type": "markdown",
   "metadata": {},
   "source": [
    "We could have obtained a solution with beter approximation error if we reduce the tolerance of the optimizer."
   ]
  },
  {
   "cell_type": "code",
   "execution_count": 42,
   "metadata": {},
   "outputs": [],
   "source": [
    "# Let us repeat the above but with a shorter phase sequence\n",
    "alpha = np.arccos(np.sqrt(2 - np.sqrt(2)))\n",
    "K = 3\n",
    "\n",
    "phi_init = np.zeros(K+2)\n",
    "phi_init[0] = np.random.randn() # psi_W\n",
    "phi_init[1] = np.pi/4 # phi_0\n",
    "phi_init[K+1] = np.pi/4 # phi_K\n",
    "\n",
    "phi_sol = hiddenbcd.queries.quasi_newton_solve(phi_init, alpha, K)"
   ]
  },
  {
   "cell_type": "code",
   "execution_count": 43,
   "metadata": {},
   "outputs": [
    {
     "data": {
      "text/plain": [
       "array([ 1.05917840e+00,  7.85398158e-01,  2.88391894e-10, -4.51525799e-10,\n",
       "        7.85398159e-01])"
      ]
     },
     "execution_count": 43,
     "metadata": {},
     "output_type": "execute_result"
    }
   ],
   "source": [
    "phi_sol"
   ]
  },
  {
   "cell_type": "code",
   "execution_count": 44,
   "metadata": {},
   "outputs": [
    {
     "data": {
      "text/plain": [
       "0.020330217153666327"
      ]
     },
     "execution_count": 44,
     "metadata": {},
     "output_type": "execute_result"
    }
   ],
   "source": [
    "# cost in this case\n",
    "hiddenbcd.queries.cost_function(phi_sol, alpha, K)"
   ]
  },
  {
   "cell_type": "markdown",
   "metadata": {},
   "source": [
    "## Visualize resulting unitaries"
   ]
  },
  {
   "cell_type": "code",
   "execution_count": 50,
   "metadata": {},
   "outputs": [],
   "source": [
    "def plot_heat_map_unitary(U, tau=1e-3):\n",
    "    U_thresh = U.copy()\n",
    "    U_thresh[np.abs(U_thresh) < tau] = 0\n",
    "    \n",
    "    colormap = sns.color_palette(\"vlag\", as_cmap=True)\n",
    "    ax = sns.heatmap(np.real(U_thresh), linewidth=0.5, cmap=colormap)\n",
    "    plt.show()\n",
    "    \n",
    "    ax = sns.heatmap(np.imag(U_thresh), linewidth=0.5, cmap=colormap)\n",
    "    plt.show()"
   ]
  },
  {
   "cell_type": "code",
   "execution_count": 51,
   "metadata": {},
   "outputs": [],
   "source": [
    "alpha = np.arccos(np.sqrt(2 - np.sqrt(2)))\n",
    "delta = 0.05\n",
    "n_reps = 5\n",
    "\n",
    "K, phi_sol = repeated_search_numerical_length(theta_1, delta, n_reps)"
   ]
  },
  {
   "cell_type": "code",
   "execution_count": 52,
   "metadata": {},
   "outputs": [
    {
     "data": {
      "text/plain": [
       "array([ 1.05917655e+00,  7.85395283e-01, -3.92098224e-06,  7.13232565e-06,\n",
       "        7.85387088e-01])"
      ]
     },
     "execution_count": 52,
     "metadata": {},
     "output_type": "execute_result"
    }
   ],
   "source": [
    "phi_sol"
   ]
  },
  {
   "cell_type": "code",
   "execution_count": 53,
   "metadata": {},
   "outputs": [],
   "source": [
    "psi_W = phi_sol[0]\n",
    "phi = phi_sol[1:]\n",
    "\n",
    "# theta_V = 0\n",
    "U0, rho0 = hiddenbcd.queries.phase_sequence(0.0, phi, psi_W, K)\n",
    "prob_theta0 = hiddenbcd.queries.probability_target(rho0)\n",
    "p_theta0 = prob_theta0[0]\n",
    "\n",
    "# theta_V = alpha\n",
    "U1, rho1 = hiddenbcd.queries.phase_sequence(alpha, phi, psi_W, K)\n",
    "prob_theta1 = hiddenbcd.queries.probability_target(rho1)\n",
    "p_theta1 = prob_theta1[0]"
   ]
  },
  {
   "cell_type": "code",
   "execution_count": 54,
   "metadata": {},
   "outputs": [
    {
     "data": {
      "text/plain": [
       "0.0006454562204711897"
      ]
     },
     "execution_count": 54,
     "metadata": {},
     "output_type": "execute_result"
    }
   ],
   "source": [
    "p_theta0"
   ]
  },
  {
   "cell_type": "code",
   "execution_count": 55,
   "metadata": {},
   "outputs": [
    {
     "data": {
      "text/plain": [
       "0.858061385516458"
      ]
     },
     "execution_count": 55,
     "metadata": {},
     "output_type": "execute_result"
    }
   ],
   "source": [
    "p_theta1"
   ]
  },
  {
   "cell_type": "code",
   "execution_count": 56,
   "metadata": {},
   "outputs": [
    {
     "name": "stdout",
     "output_type": "stream",
     "text": [
      "[[ 0.00001074+0.j          0.        +1.j          0.        +0.j\n",
      "   0.        +0.j        ]\n",
      " [ 0.        +1.j          0.00001074+0.j          0.        +0.j\n",
      "   0.        +0.j        ]\n",
      " [ 0.        +0.j          0.        +0.j         -0.00001552-0.03592927j\n",
      "   0.00000993-0.99935434j]\n",
      " [ 0.        +0.j          0.        +0.j         -0.00000993-0.99935434j\n",
      "  -0.00001552+0.03592927j]]\n"
     ]
    }
   ],
   "source": [
    "print_clean(U0)"
   ]
  },
  {
   "cell_type": "code",
   "execution_count": 57,
   "metadata": {},
   "outputs": [
    {
     "name": "stdout",
     "output_type": "stream",
     "text": [
      "[[ 0.00000136-0.82353807j  0.00000087+0.30296076j -0.41817363+0.00000477j\n",
      "  -0.23479915-0.00000264j]\n",
      " [-0.00000087+0.30296076j  0.00000136+0.82353807j -0.23479915+0.00000264j\n",
      "   0.41817363+0.00000477j]\n",
      " [-0.40946747-0.00000727j  0.24967222+0.00000048j -0.00000009-0.8338915j\n",
      "   0.00001098-0.27317604j]\n",
      " [ 0.24967222-0.00000048j  0.40946747-0.00000727j -0.00001098-0.27317604j\n",
      "  -0.00000009+0.8338915j ]]\n"
     ]
    }
   ],
   "source": [
    "print_clean(U1)"
   ]
  },
  {
   "cell_type": "code",
   "execution_count": 58,
   "metadata": {},
   "outputs": [
    {
     "data": {
      "image/png": "[encoded data removed]",
      "text/plain": [
       "<Figure size 432x288 with 2 Axes>"
      ]
     },
     "metadata": {
      "image/png": {
       "height": 258,
       "width": 357
      },
      "needs_background": "light"
     },
     "output_type": "display_data"
    },
    {
     "data": {
      "image/png": "[encoded data removed]",
      "text/plain": [
       "<Figure size 432x288 with 2 Axes>"
      ]
     },
     "metadata": {
      "image/png": {
       "height": 252,
       "width": 363
      },
      "needs_background": "light"
     },
     "output_type": "display_data"
    }
   ],
   "source": [
    "plot_heat_map_unitary(U0)"
   ]
  },
  {
   "cell_type": "code",
   "execution_count": 59,
   "metadata": {},
   "outputs": [
    {
     "data": {
      "image/png": "[encoded data removed]",
      "text/plain": [
       "<Figure size 432x288 with 2 Axes>"
      ]
     },
     "metadata": {
      "image/png": {
       "height": 248,
       "width": 357
      },
      "needs_background": "light"
     },
     "output_type": "display_data"
    },
    {
     "data": {
      "image/png": "[encoded data removed]",
      "text/plain": [
       "<Figure size 432x288 with 2 Axes>"
      ]
     },
     "metadata": {
      "image/png": {
       "height": 248,
       "width": 357
      },
      "needs_background": "light"
     },
     "output_type": "display_data"
    }
   ],
   "source": [
    "plot_heat_map_unitary(U1)"
   ]
  }
 ],
 "metadata": {
  "kernelspec": {
   "display_name": "pulse-shaping-env",
   "language": "python",
   "name": "pulse-shaping-env"
  },
  "language_info": {
   "codemirror_mode": {
    "name": "ipython",
    "version": 3
   },
   "file_extension": ".py",
   "mimetype": "text/x-python",
   "name": "python",
   "nbconvert_exporter": "python",
   "pygments_lexer": "ipython3",
   "version": "3.7.9"
  }
 },
 "nbformat": 4,
 "nbformat_minor": 4
}
